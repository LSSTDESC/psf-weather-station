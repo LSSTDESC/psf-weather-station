{
 "cells": [
  {
   "cell_type": "markdown",
   "metadata": {},
   "source": [
    "#### See the [psf-weather-station demo](./psf-weather-station-demo.ipynb) notebook to learn more about usage of the package. Stay here for fun visualizations!"
   ]
  },
  {
   "cell_type": "markdown",
   "metadata": {},
   "source": [
    "### setup and plotting things"
   ]
  },
  {
   "cell_type": "markdown",
   "metadata": {},
   "source": [
    "Most users, in order to generate parameters and run simulations, do not need to replicate most of what is shown here. Explanations here are minimal -- more information is in the documentation."
   ]
  },
  {
   "cell_type": "code",
   "execution_count": 1,
   "metadata": {},
   "outputs": [],
   "source": [
    "import psfws\n",
    "import matplotlib.pyplot as plt\n",
    "import numpy as np\n",
    "import ipywidgets as widgets\n",
    "plt.rcParams['font.size']=14"
   ]
  },
  {
   "cell_type": "code",
   "execution_count": 3,
   "metadata": {},
   "outputs": [],
   "source": [
    "seed = 9283456\n",
    "ws = psfws.ParameterGenerator(seed=seed)\n",
    "\n",
    "pt = ws._rng.choice(ws.data_fa.index)"
   ]
  },
  {
   "cell_type": "code",
   "execution_count": 4,
   "metadata": {},
   "outputs": [],
   "source": [
    "def plot_params(params, j_gl, j_fa, j_cn2, h_profile, p_curves, fa_cn2, fa_h_km):\n",
    "    f, a = plt.subplots(3, 1, figsize=(6,6), sharex=True, gridspec_kw={'hspace':0.2})\n",
    "    \n",
    "    # wind speed\n",
    "    a[0].plot(params['h'], params['speed'], 'o', ms=10, color='#D52D00')\n",
    "    a[0].set_ylabel(r'$|v|$ [m/s]')\n",
    "    a[0].set_ylim([0, 60])\n",
    "    \n",
    "    # wind direction\n",
    "    a[1].plot(params['h'], [d % 360 for d in params['phi']], 'o', ms=10, color='#D52D00')\n",
    "    a[1].set_ylim(0, 360, 0)\n",
    "    a[1].set_yticks([0, 90, 180, 270])\n",
    "    a[1].set_ylabel(r'$\\phi$ [$^\\circ$]')\n",
    "    \n",
    "    # rescale turbulence integral with saved values\n",
    "    j = [j_gl] + [j * j_fa / np.sum(params['j'][1:]) for j in params['j'][1:]]\n",
    "    a[2].set_ylabel(r'$J$ [m$^{1/3}$]');\n",
    "    a[2].plot(params['h'], j, 'o', ms=10, color='#D52D00', zorder=3)\n",
    "    a[2].set_ylim([0, np.max([j_fa, j_gl]) + 1.5e-14])\n",
    "    a[-1].set_xlabel('altitude [km]')\n",
    "    \n",
    "    # plotting the curves from which points are drawn:\n",
    "    a[0].plot(h_profile, p_curves['speed'], color='#D52D00', alpha=.6, lw=2, zorder=2)\n",
    "    a[1].plot(h_profile, np.array(p_curves['phi']) % 360, color='#D52D00', alpha=.6, lw=2, zorder=2)\n",
    "\n",
    "    a[2].patch.set_visible(False)\n",
    "    a2c = a[2].twinx()\n",
    "    a2c.plot(fa_h_km, fa_cn2 * j_fa / j_cn2, color='#EF7627')    \n",
    "    a2c.set_ylabel(r'$C_n^2(h)$ [$m^{-2/3}$]')\n",
    "    a2c.set_zorder(a[2].get_zorder()-1)\n",
    "\n",
    "    # show layer edges (just in this if statement for line ordering purposes)\n",
    "    [[ax.axvline(e, color='lightgrey', lw=2, zorder=1) for e in params['edges'][1:]] for ax in [a[0], a[1], a2c]]\n",
    "    [ax.axvline(params['edges'][0], color='lightgrey', linestyle='--', lw=2, zorder=1) for ax in [a[0], a[1], a2c]]\n",
    "\n",
    "    plt.show();"
   ]
  },
  {
   "cell_type": "markdown",
   "metadata": {},
   "source": [
    "### Choosing layer options"
   ]
  },
  {
   "cell_type": "code",
   "execution_count": 10,
   "metadata": {},
   "outputs": [
    {
     "data": {
      "application/vnd.jupyter.widget-view+json": {
       "model_id": "9d78b06eae8b41fe9928a5af2dc55440",
       "version_major": 2,
       "version_minor": 0
      },
      "text/plain": [
       "interactive(children=(IntSlider(value=8, description='n_screens', max=14, min=2), Dropdown(description='placem…"
      ]
     },
     "metadata": {},
     "output_type": "display_data"
    }
   ],
   "source": [
    "# getting raw measurements so we can interpolate + plot a smooth curve\n",
    "measured = ws.get_measurements(pt)\n",
    "h_profile = np.linspace(min(ws.h), max(ws.h), 500)\n",
    "p_curves = ws._interpolate(measured, np.array(h_profile),s=0)\n",
    "\n",
    "# fetching the cn2 profile and calculating the normalization\n",
    "fa_cn2, fa_h_km = ws._get_fa_cn2(pt)\n",
    "j_cn2 = psfws.utils.integrate_in_bins(fa_cn2, fa_h_km, [fa_h_km[0], fa_h_km[-1]])\n",
    "\n",
    "# hack: we'll be calling \"get_parameters\" multiple times with the widget, so we are saving the J values\n",
    "# here so that we don't draw different turbulence values for each function call while varying N.\n",
    "j_gl, j_fa = ws._draw_j(pt=pt)\n",
    "\n",
    "def plot_screens(n_screens, pt, location):\n",
    "    params = ws.get_parameters(pt, nl=n_screens, location=location)\n",
    "    plot_params(params, j_gl, j_fa, j_cn2, h_profile, p_curves, fa_cn2, fa_h_km)\n",
    "    \n",
    "widgets.interact(plot_screens, \n",
    "                 pt=widgets.fixed(pt), \n",
    "                 n_screens=widgets.IntSlider(min=2, max=14, step=1, value=8),\n",
    "                 location=widgets.Dropdown(options=['com','mean'], value='mean', description='placement'));"
   ]
  },
  {
   "cell_type": "markdown",
   "metadata": {},
   "source": [
    "Sliders dictate the number of phase screens and the placement of those screens, either using the mean (`mean`) of altitude or the center of mass (`com`) of $C_n^2$ with altitude.\n",
    "\n",
    "Vertical grey lines denote the edges of the atmospheric layers, represented in the simulation by phase screens which are placed at the altitudes marked by red dots. The dashed grey line is the altitude of the telescope/ground. \n",
    "\n",
    "Note that in the top two panels, parameters are sampled *from* the curves, whereas the J values (reminder: this is the \"turbulence integral\", related to seeing) in the bottom panel are the integrals, within each layer, of the orange curve.\n",
    "\n",
    "### Time variation\n",
    "The plot above shows a snapshot in time of the atmospheric environment. How does this change with time? We can explore this by making a time slider as opposed to layer sliders, as done below. We've fixed `n_screens=8` and chosen the `com` screen location option."
   ]
  },
  {
   "cell_type": "code",
   "execution_count": 7,
   "metadata": {},
   "outputs": [
    {
     "data": {
      "application/vnd.jupyter.widget-view+json": {
       "model_id": "76d0530f5ff44c07a5e0c791f2838f78",
       "version_major": 2,
       "version_minor": 0
      },
      "text/plain": [
       "interactive(children=(SelectionSlider(description='Date/Time', options=(Timestamp('2019-05-01 00:00:00+0000', …"
      ]
     },
     "metadata": {},
     "output_type": "display_data"
    }
   ],
   "source": [
    "def plot_time(date):\n",
    "    # getting the raw measurements so we can interpolate a smooth curve to plot\n",
    "    measured = ws.get_measurements(date)\n",
    "    h_profile = np.linspace(min(ws.h), max(ws.h), 500)\n",
    "    p_curves = ws._interpolate(measured, np.array(h_profile),s=0)\n",
    "    \n",
    "    # fetch cn2 profile and calculate normalization\n",
    "    fa_cn2, fa_h_km = ws._get_fa_cn2(date)\n",
    "    j_cn2 = psfws.utils.integrate_in_bins(fa_cn2, fa_h_km, [fa_h_km[0], fa_h_km[-1]])\n",
    "\n",
    "    params = ws.get_parameters(date, nl=6, location='com')\n",
    "    \n",
    "    j_gl = params['j'][0]\n",
    "    j_fa = np.sum(params['j'][1:])\n",
    "    \n",
    "    plot_params(params, j_gl, j_fa, j_cn2, h_profile, p_curves, fa_cn2, fa_h_km)\n",
    "    \n",
    "dates = ws.data_gl.index[0:50]    \n",
    "widgets.interact(plot_time, \n",
    "                 date=widgets.SelectionSlider(options=dates, description='Date/Time'));"
   ]
  },
  {
   "cell_type": "code",
   "execution_count": null,
   "metadata": {},
   "outputs": [],
   "source": []
  }
 ],
 "metadata": {
  "kernelspec": {
   "display_name": "Python 3",
   "language": "python",
   "name": "python3"
  },
  "language_info": {
   "codemirror_mode": {
    "name": "ipython",
    "version": 3
   },
   "file_extension": ".py",
   "mimetype": "text/x-python",
   "name": "python",
   "nbconvert_exporter": "python",
   "pygments_lexer": "ipython3",
   "version": "3.7.9"
  }
 },
 "nbformat": 4,
 "nbformat_minor": 4
}
