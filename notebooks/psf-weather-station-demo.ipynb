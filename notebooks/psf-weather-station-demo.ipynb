{
 "cells": [
  {
   "cell_type": "code",
   "execution_count": 1,
   "metadata": {},
   "outputs": [],
   "source": [
    "import psfws\n",
    "import matplotlib.pyplot as plt\n",
    "import numpy as np\n",
    "import ipywidgets as widgets\n",
    "import galsim\n",
    "plt.rcParams['font.size']=14"
   ]
  },
  {
   "cell_type": "markdown",
   "metadata": {},
   "source": [
    "## Simplest usage example"
   ]
  },
  {
   "cell_type": "code",
   "execution_count": 2,
   "metadata": {},
   "outputs": [
    {
     "data": {
      "text/plain": [
       "dict_keys(['u', 'v', 't', 'speed', 'phi', 'h', 'j', 'edges'])"
      ]
     },
     "execution_count": 2,
     "metadata": {},
     "output_type": "execute_result"
    }
   ],
   "source": [
    "# set a seed for rng, if desired\n",
    "seed = 12435\n",
    "\n",
    "# instantiate a weather station, this is where one can specify data, correlations, etc. Here defaults are used.\n",
    "ws = psfws.ParameterGenerator(seed=seed)\n",
    "\n",
    "# if user wants to draw parameters from a random datapoint, use:\n",
    "params = ws.draw_parameters()\n",
    "\n",
    "# what's in here?\n",
    "params.keys()"
   ]
  },
  {
   "cell_type": "markdown",
   "metadata": {},
   "source": [
    "These keys correspond to the following parameters:\n",
    "- `h`: altitudes, in km above sea level, of the phase screens to be simulated. The rest of the parameters below are sampled at these altitudes.\n",
    "- `speed`, `phi`: wind speed (m/s) and direction. `phi` is defined as the meteorological wind direction, i.e. the direction *from* which the blows, in degrees east of north.\n",
    "- `j`: turbulence integrals J for each phase screen. These correspond to the `r0_weights` input for `galsim.Atmosphere()`.\n",
    "- `u`, `v`: the components of wind speed in the E, N directions. Equivalent information to the speed and direction above. \n",
    "- `t`: temperature profile. Not required for galsim simulations.\n",
    "- `edges`: the boundaries between each of the layers. Not required for simulations, but convenient for plotting."
   ]
  },
  {
   "cell_type": "markdown",
   "metadata": {},
   "source": [
    "To see these parameters plotted and to explore either the default or your own imported data, see the [exploring environmental parameters](./exploring-environmental-parameters.ipynb) notebook."
   ]
  },
  {
   "cell_type": "markdown",
   "metadata": {},
   "source": [
    "### Specifying datapoint for which to get parameters:\n",
    "\n",
    "If user wants to specify a particular datapoint to draw from, use `ws.get_parameters()` instead, which takes an additional argument of a pandas TimeStamp. This value must be in the index of the data; i.e. must be in `ws.data_fa.index`"
   ]
  },
  {
   "cell_type": "code",
   "execution_count": 3,
   "metadata": {},
   "outputs": [],
   "source": [
    "pt = ws.data_fa.index[34]\n",
    "params = ws.get_parameters(pt)"
   ]
  },
  {
   "cell_type": "markdown",
   "metadata": {},
   "source": [
    "## Running a simple galsim.Atmosphere() simulation with these parameters"
   ]
  },
  {
   "cell_type": "markdown",
   "metadata": {},
   "source": [
    "Run a simulation at zenith, we will introduce coordinate complications next.\n",
    "\n",
    "Parameters below set up a short exposure, few layer, and relatively small FoV simulation for quick run-time."
   ]
  },
  {
   "cell_type": "markdown",
   "metadata": {},
   "source": [
    "#### Setting up simulation parameters -- modify these as you like"
   ]
  },
  {
   "cell_type": "code",
   "execution_count": 8,
   "metadata": {},
   "outputs": [],
   "source": [
    "# simulation parameters\n",
    "FOV = 1\n",
    "EXPTIME = 15.\n",
    "\n",
    "NSCREEN = 5\n",
    "NPHOT = int(1e5)\n",
    "NPOOL = 4\n",
    "NPSF = 1000\n",
    "\n",
    "SCREENSIZE = 300\n",
    "SCREENSCALE = 0.1\n",
    "\n",
    "ATMSEED = 1\n",
    "PSFSEED = 2\n",
    "\n",
    "# atmosphere parameters\n",
    "L0 = 25 # outer scale\n",
    "lam = 754.06 # collection wavelength\n",
    "r0_500 = .16 # Fried parameter as measured at lambda=500nm"
   ]
  },
  {
   "cell_type": "markdown",
   "metadata": {},
   "source": [
    "#### Set up the simulation "
   ]
  },
  {
   "cell_type": "code",
   "execution_count": 9,
   "metadata": {},
   "outputs": [
    {
     "name": "stdout",
     "output_type": "stream",
     "text": [
      "done instantiating!\n"
     ]
    }
   ],
   "source": [
    "# as above, draw parameters from psf-weather-station given a seed and a number of screens.\n",
    "ws = psfws.ParameterGenerator(seed=ATMSEED)\n",
    "params = ws.draw_parameters(nl=NSCREEN)\n",
    "\n",
    "# note that observatory altitude should be subtracted, since galsim takes 0 to be ground.\n",
    "params['h'] = [p - ws.h0 for p in params['h']]\n",
    "\n",
    "# define set of atmospheric phase screens\n",
    "atm = galsim.Atmosphere(r0_500=r0_500,\n",
    "                        altitude=list(params['h']),\n",
    "                        L0=[L0]*NSCREEN,\n",
    "                        r0_weights=list(params['j']),\n",
    "                        speed=list(params['speed']),\n",
    "                        direction=[d*galsim.degrees for d in params['phi']],\n",
    "                        screen_size=SCREENSIZE,\n",
    "                        screen_scale=SCREENSCALE,\n",
    "                        rng=galsim.BaseDeviate(ATMSEED))\n",
    "\n",
    "# telescope aperture: Rubin-like diameter/obscuration\n",
    "aper = galsim.Aperture(diam=8.36, obscuration=0.61, lam=lam, screen_list=atm)\n",
    "\n",
    "# r0 at simulation wavelength sets k-modes to include\n",
    "r0 = r0_500 * (lam/500)**1.2\n",
    "kcrit = 0.2\n",
    "kmax = kcrit / r0\n",
    "\n",
    "# instantiate phase screen list, for photon shooting simulation\n",
    "atm.instantiate(kmax=kmax, check='phot')\n",
    "\n",
    "print(\"done instantiating!\")"
   ]
  },
  {
   "cell_type": "markdown",
   "metadata": {},
   "source": [
    "#### Run the simulation"
   ]
  },
  {
   "cell_type": "code",
   "execution_count": 10,
   "metadata": {},
   "outputs": [],
   "source": [
    "# define empty arrays\n",
    "thxs = np.empty(NPSF, dtype=float)\n",
    "thys = np.empty(NPSF, dtype=float)\n",
    "psfPhotSeeds = np.empty(NPSF, dtype=float)\n",
    "\n",
    "# generate random uniform numbers into these arrays\n",
    "psfRng = galsim.BaseDeviate(PSFSEED)\n",
    "ud = galsim.UniformDeviate(psfRng)\n",
    "ud.generate(thxs)\n",
    "ud.generate(thys)\n",
    "ud.generate(psfPhotSeeds)\n",
    "\n",
    "# center the random values, and scale by the field of view -- \n",
    "# these will now be the theta x/y values for the positions of stars on the FoV\n",
    "thxs -= 0.5\n",
    "thys -= 0.5\n",
    "thxs *= FOV\n",
    "thys *= FOV\n",
    "\n",
    "psfPhotSeeds *= 2**20\n",
    "psfPhotSeeds = psfPhotSeeds.astype(np.int64)"
   ]
  },
  {
   "cell_type": "markdown",
   "metadata": {},
   "source": [
    "### Additional realism: coordinates\n",
    "\n",
    "_coming soon_..."
   ]
  }
 ],
 "metadata": {
  "kernelspec": {
   "display_name": "Python 3",
   "language": "python",
   "name": "python3"
  },
  "language_info": {
   "codemirror_mode": {
    "name": "ipython",
    "version": 3
   },
   "file_extension": ".py",
   "mimetype": "text/x-python",
   "name": "python",
   "nbconvert_exporter": "python",
   "pygments_lexer": "ipython3",
   "version": "3.7.9"
  }
 },
 "nbformat": 4,
 "nbformat_minor": 4
}
