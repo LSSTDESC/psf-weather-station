{
 "cells": [
  {
   "cell_type": "markdown",
   "metadata": {},
   "source": [
    "## Atmospheric PSF simulation basics\n",
    "\n",
    "The schematic below illustrates the method of simulating atmospheric PSFs. One instance in time is represented here.\n",
    "\n",
    "Two phase screens are shown, with color displaying the phase shift light will accrue when passing through any location in this screen (units are given in number of wavelengths, for 500nm light). Lines of sight to two stars, at opposite sides of the field of view as shown in the inset, are displayed in grey dot-dash lines. The teal columns represent the path through the atmosphere that photons from each of these stars will travel through; the phase fluctuations sampled by these columns will be contribute to the total atmospheric PSFs. \n",
    "\n",
    "At each time step of the simulation, two things happen:\n",
    "1) simulated photons travel through the phase screens to the telescope and are recorded, and\n",
    "\n",
    "2) the wind \"drifts\" each phase screen over the telescope aperture by $v*\\delta t$ in the direction of wind velocity (shown by the orange arrows on each screen).\n",
    "This results in instantaneous PSFs which vary in time in a _temporally_ correlated way, and PSFs which are _spatially_ correlated to each other since there will be overlap in the turbulence sampled by various columns. "
   ]
  },
  {
   "cell_type": "markdown",
   "metadata": {},
   "source": [
    "<img src=\"sim_schematic.png\" width=\"600\">"
   ]
  },
  {
   "cell_type": "markdown",
   "metadata": {},
   "source": [
    "## Simplest usage of psf-weather-station"
   ]
  },
  {
   "cell_type": "code",
   "execution_count": null,
   "metadata": {},
   "outputs": [],
   "source": [
    "import psfws\n",
    "import matplotlib.pyplot as plt\n",
    "import numpy as np\n",
    "import ipywidgets as widgets\n",
    "import galsim\n",
    "plt.rcParams['font.size']=14"
   ]
  },
  {
   "cell_type": "code",
   "execution_count": null,
   "metadata": {},
   "outputs": [],
   "source": [
    "# set a seed for rng, if desired\n",
    "seed = 12435\n",
    "\n",
    "# instantiate a weather station, this is where one can specify data, correlations, etc. Here defaults are used.\n",
    "ws = psfws.ParameterGenerator(seed=seed)\n",
    "\n",
    "# if user wants to draw parameters from a random datapoint, use:\n",
    "params = ws.draw_parameters()\n",
    "\n",
    "# what's in here?\n",
    "params.keys()"
   ]
  },
  {
   "cell_type": "markdown",
   "metadata": {},
   "source": [
    "These keys correspond to the following parameters:\n",
    "- `h`: altitudes, in km above sea level, of the phase screens to be simulated. The rest of the parameters below are sampled at these altitudes.\n",
    "- `speed`, `phi`: wind speed (m/s) and direction. `phi` is defined as the meteorological wind direction, i.e. the direction *from* which the blows, in degrees east of north.\n",
    "- `j`: turbulence integrals J for each phase screen. These correspond to the `r0_weights` input for `galsim.Atmosphere()`.\n",
    "- `u`, `v`: the components of wind speed in the E, N directions. Equivalent information to the speed and direction above. \n",
    "- `t`: temperature profile. Not required for galsim simulations.\n",
    "- `edges`: the boundaries between each of the layers. Not required for simulations, but convenient for plotting."
   ]
  },
  {
   "cell_type": "markdown",
   "metadata": {},
   "source": [
    "To see these parameters plotted and to explore either the default or your own imported data, see the [exploring environmental parameters](./exploring-environmental-parameters.ipynb) notebook."
   ]
  },
  {
   "cell_type": "markdown",
   "metadata": {},
   "source": [
    "### Specifying datapoint for which to get parameters:\n",
    "\n",
    "If user wants to specify a particular datapoint to draw from, use `ws.get_parameters()` instead, which takes an additional argument of a pandas TimeStamp. This value must be in the index of the data; i.e. must be in `ws.data_fa.index`"
   ]
  },
  {
   "cell_type": "code",
   "execution_count": null,
   "metadata": {},
   "outputs": [],
   "source": [
    "pt = ws.data_fa.index[34]\n",
    "params = ws.get_parameters(pt)"
   ]
  },
  {
   "cell_type": "markdown",
   "metadata": {},
   "source": [
    "## Running a simple galsim.Atmosphere() simulation with these parameters\n",
    "\n",
    "The following cells set up a relatively simple atmospheric PSF simulation. In the interest of quick run-time, the parameters below are set up to simulate a 15s exposure on a single LSSTCam raft, with a 4 phase screen atmosphere. \n",
    "\n",
    "The simulation is set up for observations at zenith -- we present the more general setup with coordinate system specifics at the end of this notebook.\n",
    "\n",
    "### Setting up simulation parameters -- modify these as you like"
   ]
  },
  {
   "cell_type": "code",
   "execution_count": null,
   "metadata": {},
   "outputs": [],
   "source": [
    "# random seends\n",
    "ATMSEED = 2346\n",
    "PSFSEED = 98345\n",
    "\n",
    "# simulation parameters\n",
    "EXPTIME = 15.\n",
    "NPSF = 750 # how many stars\n",
    "FOV = 0.7 # in how big an area, in degrees (here, 0.7 ~= area of 1 LSSTCam raft)\n",
    "\n",
    "# simulation resolution parameters\n",
    "NPHOT = int(1e5)\n",
    "SCREENSCALE = 0.1 # in m, ideally should be <= r0\n",
    "\n",
    "# atmosphere parameters\n",
    "NSCREEN = 4\n",
    "SCREENSIZE = 200 # in m\n",
    "\n",
    "L0 = 25 # outer scale in m\n",
    "lam = 754.06 # collection wavelength in nm\n",
    "r0_500 = 0.16 # Fried parameter (in m) as measured at lambda=500nm"
   ]
  },
  {
   "cell_type": "markdown",
   "metadata": {},
   "source": [
    "### Set up atmospheric phase screens"
   ]
  },
  {
   "cell_type": "code",
   "execution_count": null,
   "metadata": {},
   "outputs": [],
   "source": [
    "# as above, draw parameters from psf-weather-station given a seed and a number of screens.\n",
    "ws = psfws.ParameterGenerator(seed=ATMSEED)\n",
    "params = ws.draw_parameters(nl=NSCREEN)\n",
    "\n",
    "# observatory altitude must be subtracted from altitude list, since galsim takes 0 to be ground.\n",
    "params['h'] = [p - ws.h0 for p in params['h']]\n",
    "\n",
    "# define set of atmospheric phase screens\n",
    "atm = galsim.Atmosphere(r0_500=r0_500,\n",
    "                        altitude=list(params['h']),\n",
    "                        L0=[L0]*NSCREEN,\n",
    "                        r0_weights=list(params['j']),\n",
    "                        speed=list(params['speed']),\n",
    "                        direction=[d*galsim.degrees for d in params['phi']],\n",
    "                        screen_size=SCREENSIZE,\n",
    "                        screen_scale=SCREENSCALE,\n",
    "                        rng=galsim.BaseDeviate(ATMSEED))\n",
    "\n",
    "# telescope aperture: Rubin-like diameter/obscuration\n",
    "aper = galsim.Aperture(diam=8.36, obscuration=0.61, lam=lam, screen_list=atm)\n",
    "\n",
    "# r0 at simulation wavelength sets k-modes to include\n",
    "r0 = r0_500 * (lam/500)**1.2\n",
    "kcrit = 0.2\n",
    "kmax = kcrit / r0\n",
    "\n",
    "# instantiate phase screen list, for photon shooting simulation\n",
    "atm.instantiate(kmax=kmax, check='phot')\n",
    "\n",
    "print(\"done instantiating!\")"
   ]
  },
  {
   "cell_type": "markdown",
   "metadata": {},
   "source": [
    "### Single star\n",
    "The following cell executes a PSF simulation, using the atmospheric phase screens from above, for a single star. The atmospheric PSF is convolved with a Gaussian \"instrument PSF\" of FWHM 0.35 arcsec and drawn, with photon-shooting, onto a postage stamp image with LSST pixel size."
   ]
  },
  {
   "cell_type": "code",
   "execution_count": null,
   "metadata": {},
   "outputs": [],
   "source": [
    "rng = galsim.BaseDeviate(int(PSFSEED))\n",
    "theta = (0.0*galsim.degrees, 0.0*galsim.degrees)\n",
    "psf = atm.makePSF(lam, aper=aper, exptime=EXPTIME, theta=theta)\n",
    "psf = galsim.Convolve(psf, galsim.Gaussian(fwhm=0.35))\n",
    "img = psf.drawImage(nx=50, ny=50, scale=0.2, method='phot', n_photons=NPHOT, rng=rng)\n",
    "plt.imshow(img.array, origin='lower', extent=[-50*0.2, 50*0.2, -50*0.2, 50*0.2])\n",
    "plt.xlabel('arcsec')\n",
    "plt.ylabel('arcsec');"
   ]
  },
  {
   "cell_type": "markdown",
   "metadata": {},
   "source": [
    "### LSSTCam raft\n",
    "Let's extend the above to simulate an entire raft. \n",
    "\n",
    "We populate our field of view with randomly placed stars (using a random number generator seeded with `PSFSEED`). We don't generate an image the size of the field of view with all these PSFs; instead, we generate a postage stamp for each star, as above, and save the measured PSF parameters of each along with it's `(theta_x, theta_y)` position."
   ]
  },
  {
   "cell_type": "code",
   "execution_count": null,
   "metadata": {},
   "outputs": [],
   "source": [
    "# define empty arrays to hold star positions\n",
    "thxs = np.empty(NPSF, dtype=float)\n",
    "thys = np.empty(NPSF, dtype=float)\n",
    "psfPhotSeeds = np.empty(NPSF, dtype=float)\n",
    "\n",
    "# generate random uniform numbers into these arrays\n",
    "psfRng = galsim.BaseDeviate(PSFSEED)\n",
    "ud = galsim.UniformDeviate(psfRng)\n",
    "ud.generate(thxs)\n",
    "ud.generate(thys)\n",
    "ud.generate(psfPhotSeeds)\n",
    "\n",
    "# center the random values, and scale by the field of view -- \n",
    "# these will now be the theta x/y values for the positions of stars on the FoV\n",
    "thxs -= 0.5\n",
    "thys -= 0.5\n",
    "thxs *= FOV\n",
    "thys *= FOV\n",
    "\n",
    "psfPhotSeeds *= 2**20\n",
    "psfPhotSeeds = psfPhotSeeds.astype(np.int64)"
   ]
  },
  {
   "cell_type": "markdown",
   "metadata": {},
   "source": [
    "Note: the simulation of each postage stamp _can_ be multithreaded for computational efficiency, but the threading below just enables a progressbar. "
   ]
  },
  {
   "cell_type": "code",
   "execution_count": null,
   "metadata": {},
   "outputs": [],
   "source": [
    "import threading\n",
    "from IPython.display import display\n",
    "import ipywidgets as widgets\n",
    "\n",
    "progress = widgets.IntProgress(value=0, min=0, max=NPSF-1)\n",
    "\n",
    "# where to save the PSF parameters\n",
    "outputs = {'thx':thxs, 'thy':thys, 'seed':psfPhotSeeds, \n",
    "           'x':[], 'y': [], 'sigma':[], 'e1':[], 'e2':[]}\n",
    "\n",
    "def sim_psfs(progress):\n",
    "    \"\"\"This function loops through each star and simulates the postage stamp as we saw above. Then, the \n",
    "    PSF parameters are measured using HSM and saved to the outputs dictionary.\"\"\"\n",
    "    for i, (thx, thy, seed) in enumerate(zip(thxs, thys, psfPhotSeeds)):\n",
    "        rng = galsim.BaseDeviate(int(seed))\n",
    "        theta = (thx*galsim.degrees, thy*galsim.degrees)\n",
    "        psf = atm.makePSF(lam, aper=aper, exptime=EXPTIME, theta=theta)\n",
    "        psf = galsim.Convolve(psf, galsim.Gaussian(fwhm=0.35))\n",
    "        img = psf.drawImage(nx=50, ny=50, scale=0.2, method='phot', n_photons=NPHOT, rng=rng)\n",
    "        mom = galsim.hsm.FindAdaptiveMom(img)\n",
    "\n",
    "        outputs['x'].append(mom.moments_centroid.x)\n",
    "        outputs['y'].append(mom.moments_centroid.y)\n",
    "        outputs['sigma'].append(mom.moments_sigma)\n",
    "        outputs['e1'].append(mom.observed_shape.e1)\n",
    "        outputs['e2'].append(mom.observed_shape.e2)\n",
    "        \n",
    "        progress.value = i\n",
    "        \n",
    "thread = threading.Thread(target=sim_psfs, args=(progress,))\n",
    "display(progress)\n",
    "thread.start()"
   ]
  },
  {
   "cell_type": "markdown",
   "metadata": {},
   "source": [
    "### Outputs\n",
    "\n",
    "We can now plot the PSF parameter maps from the simulation. Below, we show the PSF size (variation from mean) and a whisker plot of PSF ellipticity. The third panel shows the wind vectors for each layer in the simulation; the length and direction of the lines show speed and direction, and the opacity is related to the average strength of optical turbulence at that elevation. "
   ]
  },
  {
   "cell_type": "code",
   "execution_count": null,
   "metadata": {},
   "outputs": [],
   "source": [
    "f = plt.figure(figsize=(16, 4))\n",
    "a = []\n",
    "a.append(plt.subplot(131))\n",
    "a.append(plt.subplot(132))\n",
    "a.append(plt.subplot(133, projection='polar'))\n",
    "\n",
    "dsigma = np.array(outputs['sigma'])-np.mean(outputs['sigma'])\n",
    "maxsig = np.max(abs(dsigma))\n",
    "sig = a[0].hexbin(outputs['thx'], outputs['thy'], C=dsigma, gridsize=25, vmax=maxsig, vmin=-maxsig)\n",
    "a[0].set_aspect('equal')\n",
    "plt.colorbar(sig, ax=a[0], use_gridspec=True, label=r'$\\delta \\sigma$')\n",
    "\n",
    "e = np.hypot(outputs['e1'], outputs['e2'])\n",
    "beta = 0.5 * np.arctan2(outputs['e2'], outputs['e1'])\n",
    "\n",
    "qdict = dict(angles='uv', headlength=0, headwidth=0, minlength=0, \n",
    "             pivot='middle', color='#41336d', width=0.004)\n",
    "q = a[1].quiver(outputs['thx'], outputs['thy'], e*np.cos(beta), e*np.sin(beta), scale=1.0, **qdict)\n",
    "a[1].set_aspect('equal')\n",
    "a[1].quiverkey(q, 1.2, 0.95, 0.05, 'e = 0.05', labelpos='N')\n",
    "\n",
    "a[0].set_title('PSF size', fontsize=15)\n",
    "a[1].set_title('PSF ellipticity', fontsize=15)\n",
    "[ax.set_xlabel(r'$\\theta_x$ ($^{\\circ}$)') for ax in a[:1]]\n",
    "a[0].set_ylabel(r'$\\theta_y$ ($^{\\circ}$)');\n",
    "a[1].set_yticklabels([])\n",
    "\n",
    "j_weights = np.array([j/np.sum(params['j']) for j in params['j']])\n",
    "j_weights = j_weights**(3/5)\n",
    "j_weights /= max(j_weights)\n",
    "\n",
    "angles = np.deg2rad(params['phi'])\n",
    "for s, p, j, h in zip(params['speed'], angles, j_weights, params['h']):\n",
    "    a[2].plot([p,p], [0, s], color='#355e8d', lw=4, alpha=j)\n",
    "    a[2].text(p - np.deg2rad(5), s+2, f'{h:.1f}km', color='darkgrey')\n",
    "a[2].set_rgrids([10,20],['',''])\n",
    "a[2].set_theta_zero_location(\"N\")\n",
    "a[2].set_theta_direction(-1) \n",
    "a[2].set_thetagrids([0,45,90,135,180,225,270,315], labels=['N', '','E', '','S', '','W',''])\n",
    "a[2].grid(alpha=0.25)\n",
    "\n",
    "a[2].set_title(\"Wind vectors\", fontsize=14)\n",
    "a[2].text(0.75, 1.0, \"darker = more turbulence\", color='#355e8d', transform=a[2].transAxes)\n",
    "a[2].text(0.9,0.9, r'$v_{max}$= '+f\"{max(params['speed']):.2g} m/s\", color='#355e8d', transform=a[2].transAxes);"
   ]
  },
  {
   "cell_type": "markdown",
   "metadata": {},
   "source": [
    "### Technical aside: coordinate systems\n",
    "\n",
    "In the schematic at the top of this notebook, two coordinate systems are shown: the 'unprimed' system of the ground/telescope, and the 'primed' system of the atmospheric phase screens. \n",
    "The primed system is rotated from the ground system according to the altitude and azimuth of observation (in the schematic, the telescope points off zenith). This is depicted because the phase screens in Galsim simulations are always _perpendicular_ to the telescope pointing rather than parallel to the ground. \n",
    "This requires the user to specify the environmental parameters not in the ground coordinates, but in sky coordinates. \n",
    "\n",
    "The coordinate transforms have been implemented for you in `psf-weather-station`; as the following example illustrates, a few things are needed to use this functionality. In the call to `get_parameters`:\n",
    "\n",
    "- change the `skycoord` kwarg to `True`\n",
    "\n",
    "- include the alitutde and azimuth of your simulated observation pointing (the `alt` and `az` kwargs)\n",
    "\n",
    "- include the latitude and longitude of your observatory location (`lat` and `lon` kwargs. Note that the defaults are set to Rubin observatory)"
   ]
  },
  {
   "cell_type": "code",
   "execution_count": null,
   "metadata": {},
   "outputs": [],
   "source": [
    "params = ws.get_parameters(pt)\n",
    "params_sky = ws.get_parameters(pt, skycoord=True, alt=80, az=70)\n",
    "\n",
    "# let's display the wind direction, as an example\n",
    "plt.plot(params['h'], (params['phi']+360)%360, 'o', label='ground')\n",
    "plt.plot(params_sky['h'], (params_sky['phi']+360)%360, 'o', label='sky')\n",
    "plt.legend()\n",
    "plt.xlabel('altitude (km)')\n",
    "plt.ylabel('wind direction');"
   ]
  },
  {
   "cell_type": "markdown",
   "metadata": {},
   "source": [
    "The wind directions change slightly, in this example, as do the the altitudes. This is as intended; the altitude of the layers here correspond not to the actual altitude of the turbulence layer, but to the distance light travels through the atmosphere, which increases by a trigonometric factor of the zenith angle. "
   ]
  }
 ],
 "metadata": {
  "kernelspec": {
   "display_name": "Python 3",
   "language": "python",
   "name": "python3"
  },
  "language_info": {
   "codemirror_mode": {
    "name": "ipython",
    "version": 3
   },
   "file_extension": ".py",
   "mimetype": "text/x-python",
   "name": "python",
   "nbconvert_exporter": "python",
   "pygments_lexer": "ipython3",
   "version": "3.7.9"
  }
 },
 "nbformat": 4,
 "nbformat_minor": 4
}
